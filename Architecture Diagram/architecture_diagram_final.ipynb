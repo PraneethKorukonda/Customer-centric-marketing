{
  "cells": [
    {
      "cell_type": "code",
      "execution_count": 1,
      "metadata": {
        "colab": {
          "base_uri": "https://localhost:8080/"
        },
        "id": "-BpBMmXXnAgT",
        "outputId": "be233e54-c08c-4f0e-c3e8-6628b5ea28c0"
      },
      "outputs": [
        {
          "name": "stdout",
          "output_type": "stream",
          "text": [
            "Requirement already satisfied: diagrams in /Users/baluooj/anaconda3/envs/my_environment/lib/python3.8/site-packages (0.23.4)\n",
            "Requirement already satisfied: graphviz<0.21.0,>=0.13.2 in /Users/baluooj/anaconda3/envs/my_environment/lib/python3.8/site-packages (from diagrams) (0.20.1)\n",
            "Requirement already satisfied: jinja2<4.0,>=2.10 in /Users/baluooj/anaconda3/envs/my_environment/lib/python3.8/site-packages (from diagrams) (3.1.2)\n",
            "Requirement already satisfied: typed-ast<2.0.0,>=1.5.4 in /Users/baluooj/anaconda3/envs/my_environment/lib/python3.8/site-packages (from diagrams) (1.5.5)\n",
            "Requirement already satisfied: MarkupSafe>=2.0 in /Users/baluooj/anaconda3/envs/my_environment/lib/python3.8/site-packages (from jinja2<4.0,>=2.10->diagrams) (2.1.3)\n",
            "Note: you may need to restart the kernel to use updated packages.\n"
          ]
        }
      ],
      "source": [
        "\n",
        "pip install diagrams\n"
      ]
    },
    {
      "cell_type": "markdown",
      "metadata": {
        "id": "V_OV4PcKybj_"
      },
      "source": [
        "test"
      ]
    },
    {
      "cell_type": "code",
      "execution_count": 2,
      "metadata": {
        "id": "m_-WuXvCybEo"
      },
      "outputs": [],
      "source": [
        "from diagrams import Diagram, Cluster, Node\n",
        "from diagrams.aws.storage import S3\n",
        "from diagrams.onprem.vcs import Git\n",
        "from diagrams.onprem.compute import Server\n",
        "from urllib.request import urlretrieve\n",
        "from diagrams.custom import Custom\n",
        "\n",
        "\n",
        "with Diagram(\"Data Flow\", show=False, direction=\"LR\"):\n",
        "    with Cluster(\"Data Sources\"):\n",
        "        #customers_data = Node(\"Customers Data\\n(From Web)\", shape=\"cloud\", icon=\"aws.database.RDS\")\n",
        "\n",
        "              # Adding a custom image for Customers Data\n",
        "        customers_data_url = \"data:image/png;base64,iVBORw0KGgoAAAANSUhEUgAAAMgAAADICAMAAACahl6sAAAAclBMVEX///8AAAC/v79/f38fHx+fn58/Pz9fX1/f3987Ozvz8/Pj4+Orq6sLCwvPz8+cnJxZWVnr6+tzc3NHR0dQUFCKioodHR27u7vV1dV3d3c3NzcqKiqzs7MODg7x8fGRkZFmZmZLS0swMDDHx8eEhIQXFxd6fM8zAAAEYklEQVR4nO2d6XaqMBRGQa04IcrgUOeq7/+Kt9cEl0IgBE/gVL/9i5WUJFvKySASxwEAgLdmFYRx1DdkaEQUh8HKrsVg3XMbYrEe2NOYNWUhmI3teCR+sx6u6x8saIxOTWv8Jx5Re8y/2/Bw3e89rcfowePbW3dpebj3/OjYXXsPtQ1pr0mclrsJiD+iX/b3UBht06Rgk6bNKKs6pJ9XQFlqSnpBep2nOtPY8kVX03wna7LSTW1lg0+Za72SF2o3J6vqKD3sxHX5T3TKZYylSUhV01xcZN/OsGEibz7FTT2VFVNdkkRUlRAVlyESpZ9LaqbqF39upS2ISsswL41NCxHwSauydEEmJRfEcS4ilybky6hiaTAaijhSkDsQdS9JqkpKq3oVcYt4RdkLwptEfGYRSVl5xA14KcqOCAOwRz9SeED0FYUjBtHrH0mq8sov/ov0yochlJVDpBJWRLbHYS+P34DIVVHvQ+W+IufHmxQUOSldIbErUo+FUiUsP4mjiDKcaTyYiuR7mK3uDKYi7jZT3kZ3AleRzXNxZ5HqH4OvHMMGRI75ajUEctrqPk30na4qUdJqP1LCUrS5+5QohjSx8gSuInKN6rnRfYVcClsR8W/Uf0qDyMtYFZlPiqLWSCSJpZvz7ficzzAXMYlak3R1SCuyVX0RIkTkHFrM372iDHMRI/xtNZHRTnU2IxF3N6okclaezElELh7pRDr8RTofKaKcIY5FkliWD2/HYT7DXKRwhpilhsg9j1U/AhEHIhWBCERux2NNdLyH34M2kA5bFZH9XiH3DrGr+cP7Fy4QgQhEWIqMNNPQ+1R3qp+xtipCD0QgQtFqBRCxG7UKg9MvS05RS9eP5Oll6shmQAQiEGEpopshFk4Ef5lxmiHSAxGIULRaAUQgcjvGAl0e3j07RCDy6SJYoCsEIhChaLUCiGCB7nb8NosPEIEIRLBAVxOIQISi1QogAhGDxoUGcZm1iDhDQ7sdIkQgAhEKkbPBHJi1iAkQgQhFqxVABCIUrVYAkboiUccO16ZF7AKRjxTRvYyHguz7ZqyIrOy/eblX+RULr4g4yx+7Gv6p+q/HXxLhBES4ARFufLKI6UYQzVBDhDMfJqJ+5Q4rqr1yZ9/4rham+PtKIk7QZiOrIAf9+heFrRLiXSBISdL315u+uo0tEOEGRLhRLOJZWoSzhFco8ieBCDcgwo23FnmbfgQi7QARbkDEnOnj2tqUuvQGRZ6WyJTbBLwCRMyBSCUgYs7gcWGNfNc79CPceGuR0y3N1sNlllBtYyMenPHJRxE2kXu8rp8S5TZWu8uy7VW3qiwvclOOzDacC/ePkt0C9KvtBtUl98jaTH8OR/I7gI5i/Vn8iFVPrCXsv83NsivYpnae9K9tt6061+hAt9/5f0SYqL1/8Av7WBEDEQFEyIGIACLkQEQAEXIgImhRJPNAmxj+7+o+DycmrHEmtRGROkNVUyACEYgwEGniRwmNiAAAQIv8A/J7deMRR0LOAAAAAElFTkSuQmCC\"  # Replace with your image URL\n",
        "        customers_data_icon = \"customers_data.png\"  # Local file name to save the fetched image\n",
        "        urlretrieve(customers_data_url, customers_data_icon)\n",
        "        customers_data = Custom(\"Customers Data\", customers_data_icon)\n",
        "\n",
        "        beautiful_soup_url = \"data:image/png;base64,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\"  # Replace with your image URL\n",
        "        beautiful_soup_icon = \"beautiful_soup.png\"  # Local file name to save the fetched image\n",
        "        urlretrieve(beautiful_soup_url, beautiful_soup_icon)\n",
        "        products_data = Custom(\"Products Data\", beautiful_soup_icon)\n",
        "\n",
        "\n",
        "    jupyter_url = \"https://upload.wikimedia.org/wikipedia/commons/thumb/3/38/Jupyter_logo.svg/1200px-Jupyter_logo.svg.png\"  # Replace with your image URL\n",
        "    jupyter_icon = \"jupyter.png\"  # Local file name to save the fetched image\n",
        "    urlretrieve(jupyter_url, jupyter_icon)\n",
        "    jupyter = Custom(\"Jupyter\\n(Merging)\", jupyter_icon, shape=\"note\")\n",
        "\n",
        "\n",
        "    s3 = S3(\"Amazon S3\")\n",
        "\n",
        "    # snowflake_url = \"data:image/png;base64,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\"  # Replace with your image URL\n",
        "    # snowflake_icon = \"snowflake.png\"  # Local file name to save the fetched image\n",
        "    # urlretrieve(snowflake_url, snowflake_icon)\n",
        "    # snowflake = Custom(\"snowflake\", snowflake_icon)  # Adding custom image to Streamlit node\n",
        "\n",
        "    with Cluster(\"VS Code\"):\n",
        "        # Adding a custom image for VS Code\n",
        "        vs_code_url = \"https://upload.wikimedia.org/wikipedia/commons/thumb/9/9a/Visual_Studio_Code_1.35_icon.svg/2048px-Visual_Studio_Code_1.35_icon.svg.png\"  # Replace with your image URL\n",
        "        vs_code_icon = \"vs_code.png\"  # Local file name to save the fetched image\n",
        "        urlretrieve(vs_code_url, vs_code_icon)\n",
        "        vs_code = Custom(\"VS Code\", vs_code_icon)\n",
        "\n",
        "                # Fetching custom images for customer segmentation\n",
        "        customer_segmentation_url = \"https://www.marketingevolution.com/hs-fs/hubfs/customer-segmentation.jpg?width=1100&name=customer-segmentation.jpg\"  # Replace with your image URL\n",
        "        customer_segmentation_icon = \"customer_segmentation.png\"  # Local file name to save the fetched image\n",
        "        urlretrieve(customer_segmentation_url, customer_segmentation_icon)\n",
        "        segmentation = Custom(\"Customer Segmentation\", customer_segmentation_icon)  # Adding custom image for customer segmentation\n",
        "\n",
        "        # Fetching custom images for next purchase date\n",
        "        next_purchase_date_url = \"https://cdn-icons-png.flaticon.com/512/6606/6606320.png\"  # Replace with your image URL\n",
        "        next_purchase_date_icon = \"next_purchase_date.png\"  # Local file name to save the fetched image\n",
        "        urlretrieve(next_purchase_date_url, next_purchase_date_icon)\n",
        "        prediction = Custom(\"Next Purchase Date\", next_purchase_date_icon)  # Adding custom image for next purchase date\n",
        "\n",
        "        # Fetching custom images for sales forecasting\n",
        "        sales_forecasting_url = \"https://static.thenounproject.com/png/1327036-200.png\"  # Replace with your image URL\n",
        "        sales_forecasting_icon = \"sales_forecasting.png\"  # Local file name to save the fetched image\n",
        "        urlretrieve(sales_forecasting_url, sales_forecasting_icon)\n",
        "        forecasting = Custom(\"Sales Forecasting\", sales_forecasting_icon)  # Adding custom image for sales forecasting\n",
        "\n",
        "        # #segmentation = Node(\"Customer Segmentation\\nModel\", shape=\"note\")\n",
        "        # prediction = Node(\"Next Purchase Date\\nPrediction Model\", shape=\"note\")\n",
        "        # forecasting = Node(\"Sales Forecasting\\nModel\", shape=\"note\")\n",
        "\n",
        "    with Cluster(\"Streamlit\"):\n",
        "\n",
        "        # Fetching custom images\n",
        "        streamlit_url = \"https://encrypted-tbn0.gstatic.com/images?q=tbn:ANd9GcSpDPDrXWjk4tzzDtfGykTM6wJLf-n7aLjMZ_nq4TzVMg&s\"  # Replace with your image URL\n",
        "        streamlit_icon = \"streamlit.png\"  # Local file name to save the fetched image\n",
        "        urlretrieve(streamlit_url, streamlit_icon)\n",
        "        streamlit = Custom(\"streamlit\", streamlit_icon)  # Adding custom image to Streamlit node\n",
        "\n",
        "        # fastapi_url = \"https://camo.githubusercontent.com/86d9ca3437f5034da052cf0fd398299292aab0e4479b58c20f2fc37dd8ccbe05/68747470733a2f2f666173746170692e7469616e676f6c6f2e636f6d2f696d672f6c6f676f2d6d617267696e2f6c6f676f2d7465616c2e706e67\"  # Replace with your image URL\n",
        "        # fastapi_icon = \"fastapi.png\"  # Local file name to save the fetched image\n",
        "        # urlretrieve(fastapi_url, fastapi_icon)\n",
        "        # fastapi = Custom(\"FastAPI\", fastapi_icon)  # Adding custom image to FastAPI node\n",
        "\n",
        "    git = Git(\"Git\")\n",
        "    # Adding a custom image for GitHub\n",
        "    github_url = \"https://foundations.projectpythia.org/_images/GitHub-logo.png\"  # Replace with your image URL\n",
        "    github_icon = \"github.png\"  # Local file name to save the fetched image\n",
        "    urlretrieve(github_url, github_icon)\n",
        "    github = Custom(\"GitHub\", github_icon)\n",
        "\n",
        "\n",
        "    customers_data >> jupyter\n",
        "    products_data >> jupyter\n",
        "    jupyter >> s3 #>> snowflake\n",
        "\n",
        "    s3 >> vs_code\n",
        "    vs_code >> [segmentation, prediction, forecasting]\n",
        "    #[segmentation, prediction, forecasting] >> fastapi >> streamlit\n",
        "    [segmentation, prediction, forecasting]  >> streamlit\n",
        "\n",
        "    vs_code - git\n",
        "    git >> github\n",
        "    github >> streamlit\n",
        "\n"
      ]
    },
    {
      "cell_type": "code",
      "execution_count": null,
      "metadata": {
        "id": "vT8KSB8lWQyN"
      },
      "outputs": [],
      "source": []
    }
  ],
  "metadata": {
    "colab": {
      "provenance": []
    },
    "kernelspec": {
      "display_name": "Python 3",
      "name": "python3"
    },
    "language_info": {
      "codemirror_mode": {
        "name": "ipython",
        "version": 3
      },
      "file_extension": ".py",
      "mimetype": "text/x-python",
      "name": "python",
      "nbconvert_exporter": "python",
      "pygments_lexer": "ipython3",
      "version": "3.8.18"
    }
  },
  "nbformat": 4,
  "nbformat_minor": 0
}
